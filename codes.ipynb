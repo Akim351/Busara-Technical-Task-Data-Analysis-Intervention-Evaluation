{
 "cells": [
  {
   "cell_type": "markdown",
   "id": "b1575d14",
   "metadata": {},
   "source": [
    "## Data Analytics for the Busara Projects Intern Technical Task "
   ]
  },
  {
   "cell_type": "code",
   "execution_count": 1,
   "id": "0938f84e",
   "metadata": {},
   "outputs": [],
   "source": [
    "# importing relevant libraries\n",
    "import pandas as pd\n",
    "import numpy as np\n",
    "import seaborn as sns\n",
    "import matplotlib.pyplot as plt\n"
   ]
  },
  {
   "cell_type": "markdown",
   "id": "48a06bd8",
   "metadata": {},
   "source": [
    "### Basic summary statistic for the data"
   ]
  },
  {
   "cell_type": "code",
   "execution_count": 2,
   "id": "a0db1d00",
   "metadata": {},
   "outputs": [],
   "source": [
    "# loading the dataset\n",
    "dp_data= pd.read_excel(\"DP_continuation.xlsx\")"
   ]
  },
  {
   "cell_type": "code",
   "execution_count": 3,
   "id": "66dff580",
   "metadata": {},
   "outputs": [
    {
     "data": {
      "text/html": [
       "<div>\n",
       "<style scoped>\n",
       "    .dataframe tbody tr th:only-of-type {\n",
       "        vertical-align: middle;\n",
       "    }\n",
       "\n",
       "    .dataframe tbody tr th {\n",
       "        vertical-align: top;\n",
       "    }\n",
       "\n",
       "    .dataframe thead th {\n",
       "        text-align: right;\n",
       "    }\n",
       "</style>\n",
       "<table border=\"1\" class=\"dataframe\">\n",
       "  <thead>\n",
       "    <tr style=\"text-align: right;\">\n",
       "      <th></th>\n",
       "      <th>clientsid</th>\n",
       "      <th>Gender</th>\n",
       "      <th>CountyOfBirth</th>\n",
       "      <th>Age</th>\n",
       "      <th>EntryPoint</th>\n",
       "      <th>ReferredOrTransferredFrom</th>\n",
       "      <th>InitialVisitDate</th>\n",
       "      <th>BP</th>\n",
       "      <th>Weight_</th>\n",
       "      <th>Height</th>\n",
       "      <th>SignOfSti</th>\n",
       "      <th>Lmp</th>\n",
       "      <th>Cluster</th>\n",
       "      <th>FacilityType</th>\n",
       "      <th>Received_DP</th>\n",
       "      <th>Refill1month</th>\n",
       "      <th>Refill2months</th>\n",
       "      <th>Refill3months</th>\n",
       "      <th>Refill6months</th>\n",
       "      <th>received_counseling</th>\n",
       "    </tr>\n",
       "  </thead>\n",
       "  <tbody>\n",
       "    <tr>\n",
       "      <th>0</th>\n",
       "      <td>10269-07-1/18</td>\n",
       "      <td>M</td>\n",
       "      <td>Kisii</td>\n",
       "      <td>38</td>\n",
       "      <td>Referred</td>\n",
       "      <td>VCT Site</td>\n",
       "      <td>2018-03-14</td>\n",
       "      <td>113/82</td>\n",
       "      <td>68.0</td>\n",
       "      <td>172.0</td>\n",
       "      <td>No</td>\n",
       "      <td>1900-01-01</td>\n",
       "      <td>Nairobi</td>\n",
       "      <td>Public</td>\n",
       "      <td>1</td>\n",
       "      <td>1</td>\n",
       "      <td>1</td>\n",
       "      <td>1</td>\n",
       "      <td>1</td>\n",
       "      <td>0</td>\n",
       "    </tr>\n",
       "    <tr>\n",
       "      <th>1</th>\n",
       "      <td>10269-07-2/18</td>\n",
       "      <td>F</td>\n",
       "      <td>Meru</td>\n",
       "      <td>44</td>\n",
       "      <td>Referred</td>\n",
       "      <td>VCT Site</td>\n",
       "      <td>2018-04-11</td>\n",
       "      <td>120/84</td>\n",
       "      <td>102.0</td>\n",
       "      <td>168.0</td>\n",
       "      <td>No</td>\n",
       "      <td>1900-01-01</td>\n",
       "      <td>Nairobi</td>\n",
       "      <td>Public</td>\n",
       "      <td>1</td>\n",
       "      <td>1</td>\n",
       "      <td>1</td>\n",
       "      <td>1</td>\n",
       "      <td>0</td>\n",
       "      <td>1</td>\n",
       "    </tr>\n",
       "    <tr>\n",
       "      <th>2</th>\n",
       "      <td>10269-07-3/18</td>\n",
       "      <td>M</td>\n",
       "      <td>Kiambu</td>\n",
       "      <td>40</td>\n",
       "      <td>Referred</td>\n",
       "      <td>Outreach</td>\n",
       "      <td>2018-04-04</td>\n",
       "      <td>113/84</td>\n",
       "      <td>0.0</td>\n",
       "      <td>0.0</td>\n",
       "      <td>No</td>\n",
       "      <td>1900-01-01</td>\n",
       "      <td>Nairobi</td>\n",
       "      <td>Public</td>\n",
       "      <td>1</td>\n",
       "      <td>1</td>\n",
       "      <td>1</td>\n",
       "      <td>1</td>\n",
       "      <td>0</td>\n",
       "      <td>1</td>\n",
       "    </tr>\n",
       "    <tr>\n",
       "      <th>3</th>\n",
       "      <td>10269-07-4/18</td>\n",
       "      <td>M</td>\n",
       "      <td>Bungoma</td>\n",
       "      <td>24</td>\n",
       "      <td>Referred</td>\n",
       "      <td>VCT Site</td>\n",
       "      <td>2018-04-11</td>\n",
       "      <td>000/00</td>\n",
       "      <td>0.0</td>\n",
       "      <td>0.0</td>\n",
       "      <td>No</td>\n",
       "      <td>1900-01-01</td>\n",
       "      <td>Nairobi</td>\n",
       "      <td>Public</td>\n",
       "      <td>1</td>\n",
       "      <td>1</td>\n",
       "      <td>1</td>\n",
       "      <td>0</td>\n",
       "      <td>0</td>\n",
       "      <td>1</td>\n",
       "    </tr>\n",
       "    <tr>\n",
       "      <th>4</th>\n",
       "      <td>10269-07-5/18</td>\n",
       "      <td>F</td>\n",
       "      <td>Kiambu</td>\n",
       "      <td>31</td>\n",
       "      <td>Referred</td>\n",
       "      <td>VCT Site</td>\n",
       "      <td>2018-05-13</td>\n",
       "      <td>000/00</td>\n",
       "      <td>75.5</td>\n",
       "      <td>759.5</td>\n",
       "      <td>No</td>\n",
       "      <td>2018-04-01</td>\n",
       "      <td>Nairobi</td>\n",
       "      <td>Public</td>\n",
       "      <td>1</td>\n",
       "      <td>1</td>\n",
       "      <td>0</td>\n",
       "      <td>0</td>\n",
       "      <td>0</td>\n",
       "      <td>1</td>\n",
       "    </tr>\n",
       "  </tbody>\n",
       "</table>\n",
       "</div>"
      ],
      "text/plain": [
       "       clientsid Gender CountyOfBirth  Age EntryPoint  \\\n",
       "0  10269-07-1/18      M         Kisii   38   Referred   \n",
       "1  10269-07-2/18      F          Meru   44   Referred   \n",
       "2  10269-07-3/18      M        Kiambu   40   Referred   \n",
       "3  10269-07-4/18      M       Bungoma   24   Referred   \n",
       "4  10269-07-5/18      F        Kiambu   31   Referred   \n",
       "\n",
       "  ReferredOrTransferredFrom InitialVisitDate      BP  Weight_  Height  \\\n",
       "0                  VCT Site       2018-03-14  113/82     68.0   172.0   \n",
       "1                  VCT Site       2018-04-11  120/84    102.0   168.0   \n",
       "2                  Outreach       2018-04-04  113/84      0.0     0.0   \n",
       "3                  VCT Site       2018-04-11  000/00      0.0     0.0   \n",
       "4                  VCT Site       2018-05-13  000/00     75.5   759.5   \n",
       "\n",
       "  SignOfSti         Lmp  Cluster FacilityType  Received_DP  Refill1month  \\\n",
       "0        No  1900-01-01  Nairobi       Public            1             1   \n",
       "1        No  1900-01-01  Nairobi       Public            1             1   \n",
       "2        No  1900-01-01  Nairobi       Public            1             1   \n",
       "3        No  1900-01-01  Nairobi       Public            1             1   \n",
       "4        No  2018-04-01  Nairobi       Public            1             1   \n",
       "\n",
       "   Refill2months  Refill3months  Refill6months  received_counseling  \n",
       "0              1              1              1                    0  \n",
       "1              1              1              0                    1  \n",
       "2              1              1              0                    1  \n",
       "3              1              0              0                    1  \n",
       "4              0              0              0                    1  "
      ]
     },
     "execution_count": 3,
     "metadata": {},
     "output_type": "execute_result"
    }
   ],
   "source": [
    "# viewing the head of the dataset\n",
    "dp_data.head()"
   ]
  },
  {
   "cell_type": "code",
   "execution_count": 4,
   "id": "c6689841",
   "metadata": {},
   "outputs": [
    {
     "data": {
      "text/html": [
       "<div>\n",
       "<style scoped>\n",
       "    .dataframe tbody tr th:only-of-type {\n",
       "        vertical-align: middle;\n",
       "    }\n",
       "\n",
       "    .dataframe tbody tr th {\n",
       "        vertical-align: top;\n",
       "    }\n",
       "\n",
       "    .dataframe thead th {\n",
       "        text-align: right;\n",
       "    }\n",
       "</style>\n",
       "<table border=\"1\" class=\"dataframe\">\n",
       "  <thead>\n",
       "    <tr style=\"text-align: right;\">\n",
       "      <th></th>\n",
       "      <th>clientsid</th>\n",
       "      <th>Gender</th>\n",
       "      <th>CountyOfBirth</th>\n",
       "      <th>Age</th>\n",
       "      <th>EntryPoint</th>\n",
       "      <th>ReferredOrTransferredFrom</th>\n",
       "      <th>InitialVisitDate</th>\n",
       "      <th>BP</th>\n",
       "      <th>Weight_</th>\n",
       "      <th>Height</th>\n",
       "      <th>SignOfSti</th>\n",
       "      <th>Lmp</th>\n",
       "      <th>Cluster</th>\n",
       "      <th>FacilityType</th>\n",
       "      <th>Received_DP</th>\n",
       "      <th>Refill1month</th>\n",
       "      <th>Refill2months</th>\n",
       "      <th>Refill3months</th>\n",
       "      <th>Refill6months</th>\n",
       "      <th>received_counseling</th>\n",
       "    </tr>\n",
       "  </thead>\n",
       "  <tbody>\n",
       "    <tr>\n",
       "      <th>22126</th>\n",
       "      <td>99999/2019/07014</td>\n",
       "      <td>F</td>\n",
       "      <td>Unknown</td>\n",
       "      <td>35</td>\n",
       "      <td>Referred</td>\n",
       "      <td>VCT Site</td>\n",
       "      <td>2017-11-17</td>\n",
       "      <td>112/63</td>\n",
       "      <td>76.0</td>\n",
       "      <td>162.0</td>\n",
       "      <td>No</td>\n",
       "      <td>1900-01-01</td>\n",
       "      <td>Nairobi</td>\n",
       "      <td>Dice</td>\n",
       "      <td>1</td>\n",
       "      <td>0</td>\n",
       "      <td>0</td>\n",
       "      <td>0</td>\n",
       "      <td>0</td>\n",
       "      <td>0</td>\n",
       "    </tr>\n",
       "    <tr>\n",
       "      <th>22127</th>\n",
       "      <td>99999/2019/07017</td>\n",
       "      <td>F</td>\n",
       "      <td>Unknown</td>\n",
       "      <td>41</td>\n",
       "      <td>Referred</td>\n",
       "      <td>VCT Site</td>\n",
       "      <td>2017-12-20</td>\n",
       "      <td>114/76</td>\n",
       "      <td>94.0</td>\n",
       "      <td>154.0</td>\n",
       "      <td>No</td>\n",
       "      <td>1900-01-01</td>\n",
       "      <td>Nairobi</td>\n",
       "      <td>Dice</td>\n",
       "      <td>1</td>\n",
       "      <td>0</td>\n",
       "      <td>0</td>\n",
       "      <td>0</td>\n",
       "      <td>0</td>\n",
       "      <td>1</td>\n",
       "    </tr>\n",
       "    <tr>\n",
       "      <th>22128</th>\n",
       "      <td>99999/2019/07018</td>\n",
       "      <td>F</td>\n",
       "      <td>Turkana</td>\n",
       "      <td>47</td>\n",
       "      <td>Referred</td>\n",
       "      <td>VCT Site</td>\n",
       "      <td>2017-11-24</td>\n",
       "      <td>109/54</td>\n",
       "      <td>60.0</td>\n",
       "      <td>168.0</td>\n",
       "      <td>No</td>\n",
       "      <td>1900-01-01</td>\n",
       "      <td>Nairobi</td>\n",
       "      <td>Dice</td>\n",
       "      <td>1</td>\n",
       "      <td>0</td>\n",
       "      <td>0</td>\n",
       "      <td>0</td>\n",
       "      <td>0</td>\n",
       "      <td>1</td>\n",
       "    </tr>\n",
       "    <tr>\n",
       "      <th>22129</th>\n",
       "      <td>99999/2019/07019</td>\n",
       "      <td>F</td>\n",
       "      <td>Meru</td>\n",
       "      <td>27</td>\n",
       "      <td>Referred</td>\n",
       "      <td>VCT Site</td>\n",
       "      <td>2017-04-03</td>\n",
       "      <td>154/84</td>\n",
       "      <td>47.0</td>\n",
       "      <td>159.0</td>\n",
       "      <td>No</td>\n",
       "      <td>1900-01-01</td>\n",
       "      <td>Nairobi</td>\n",
       "      <td>Dice</td>\n",
       "      <td>1</td>\n",
       "      <td>0</td>\n",
       "      <td>0</td>\n",
       "      <td>0</td>\n",
       "      <td>0</td>\n",
       "      <td>0</td>\n",
       "    </tr>\n",
       "    <tr>\n",
       "      <th>22130</th>\n",
       "      <td>99999/2019/07020</td>\n",
       "      <td>F</td>\n",
       "      <td>Kakamega</td>\n",
       "      <td>26</td>\n",
       "      <td>Referred</td>\n",
       "      <td>VCT Site</td>\n",
       "      <td>2017-04-18</td>\n",
       "      <td>109/62</td>\n",
       "      <td>51.0</td>\n",
       "      <td>163.0</td>\n",
       "      <td>No</td>\n",
       "      <td>1900-01-01</td>\n",
       "      <td>Nairobi</td>\n",
       "      <td>Dice</td>\n",
       "      <td>1</td>\n",
       "      <td>0</td>\n",
       "      <td>0</td>\n",
       "      <td>0</td>\n",
       "      <td>0</td>\n",
       "      <td>0</td>\n",
       "    </tr>\n",
       "  </tbody>\n",
       "</table>\n",
       "</div>"
      ],
      "text/plain": [
       "              clientsid Gender CountyOfBirth  Age EntryPoint  \\\n",
       "22126  99999/2019/07014      F       Unknown   35   Referred   \n",
       "22127  99999/2019/07017      F       Unknown   41   Referred   \n",
       "22128  99999/2019/07018      F       Turkana   47   Referred   \n",
       "22129  99999/2019/07019      F          Meru   27   Referred   \n",
       "22130  99999/2019/07020      F      Kakamega   26   Referred   \n",
       "\n",
       "      ReferredOrTransferredFrom InitialVisitDate      BP  Weight_  Height  \\\n",
       "22126                  VCT Site       2017-11-17  112/63     76.0   162.0   \n",
       "22127                  VCT Site       2017-12-20  114/76     94.0   154.0   \n",
       "22128                  VCT Site       2017-11-24  109/54     60.0   168.0   \n",
       "22129                  VCT Site       2017-04-03  154/84     47.0   159.0   \n",
       "22130                  VCT Site       2017-04-18  109/62     51.0   163.0   \n",
       "\n",
       "      SignOfSti         Lmp  Cluster FacilityType  Received_DP  Refill1month  \\\n",
       "22126        No  1900-01-01  Nairobi         Dice            1             0   \n",
       "22127        No  1900-01-01  Nairobi         Dice            1             0   \n",
       "22128        No  1900-01-01  Nairobi         Dice            1             0   \n",
       "22129        No  1900-01-01  Nairobi         Dice            1             0   \n",
       "22130        No  1900-01-01  Nairobi         Dice            1             0   \n",
       "\n",
       "       Refill2months  Refill3months  Refill6months  received_counseling  \n",
       "22126              0              0              0                    0  \n",
       "22127              0              0              0                    1  \n",
       "22128              0              0              0                    1  \n",
       "22129              0              0              0                    0  \n",
       "22130              0              0              0                    0  "
      ]
     },
     "execution_count": 4,
     "metadata": {},
     "output_type": "execute_result"
    }
   ],
   "source": [
    "# checking the tailof the dataset\n",
    "dp_data.tail()"
   ]
  },
  {
   "cell_type": "code",
   "execution_count": 5,
   "id": "e6553e32",
   "metadata": {},
   "outputs": [
    {
     "data": {
      "text/plain": [
       "Index(['clientsid', 'Gender', 'CountyOfBirth', 'Age', 'EntryPoint',\n",
       "       'ReferredOrTransferredFrom', 'InitialVisitDate', 'BP', 'Weight_',\n",
       "       'Height', 'SignOfSti', 'Lmp', 'Cluster', 'FacilityType', 'Received_DP',\n",
       "       'Refill1month', 'Refill2months', 'Refill3months', 'Refill6months',\n",
       "       'received_counseling'],\n",
       "      dtype='object')"
      ]
     },
     "execution_count": 5,
     "metadata": {},
     "output_type": "execute_result"
    }
   ],
   "source": [
    "# checking the variables in the dataset\n",
    "dp_data.columns"
   ]
  },
  {
   "cell_type": "code",
   "execution_count": 6,
   "id": "5a2ea938",
   "metadata": {},
   "outputs": [
    {
     "data": {
      "text/plain": [
       "clientsid                     object\n",
       "Gender                        object\n",
       "CountyOfBirth                 object\n",
       "Age                            int64\n",
       "EntryPoint                    object\n",
       "ReferredOrTransferredFrom     object\n",
       "InitialVisitDate              object\n",
       "BP                            object\n",
       "Weight_                      float64\n",
       "Height                       float64\n",
       "SignOfSti                     object\n",
       "Lmp                           object\n",
       "Cluster                       object\n",
       "FacilityType                  object\n",
       "Received_DP                    int64\n",
       "Refill1month                   int64\n",
       "Refill2months                  int64\n",
       "Refill3months                  int64\n",
       "Refill6months                  int64\n",
       "received_counseling            int64\n",
       "dtype: object"
      ]
     },
     "execution_count": 6,
     "metadata": {},
     "output_type": "execute_result"
    }
   ],
   "source": [
    "#checking the data types\n",
    "dp_data.dtypes"
   ]
  },
  {
   "cell_type": "code",
   "execution_count": 7,
   "id": "839597fe",
   "metadata": {},
   "outputs": [
    {
     "data": {
      "text/plain": [
       "(22131, 20)"
      ]
     },
     "execution_count": 7,
     "metadata": {},
     "output_type": "execute_result"
    }
   ],
   "source": [
    "# checking the shape of the dataset\n",
    "dp_data.shape"
   ]
  },
  {
   "cell_type": "markdown",
   "id": "56591868",
   "metadata": {},
   "source": [
    "#### checking for missing values"
   ]
  },
  {
   "cell_type": "code",
   "execution_count": 8,
   "id": "9b49e824",
   "metadata": {},
   "outputs": [
    {
     "data": {
      "text/plain": [
       "clientsid                      0\n",
       "Gender                         0\n",
       "CountyOfBirth                  0\n",
       "Age                            0\n",
       "EntryPoint                     0\n",
       "ReferredOrTransferredFrom      0\n",
       "InitialVisitDate               0\n",
       "BP                           307\n",
       "Weight_                      117\n",
       "Height                       117\n",
       "SignOfSti                    117\n",
       "Lmp                          117\n",
       "Cluster                        0\n",
       "FacilityType                   0\n",
       "Received_DP                    0\n",
       "Refill1month                   0\n",
       "Refill2months                  0\n",
       "Refill3months                  0\n",
       "Refill6months                  0\n",
       "received_counseling            0\n",
       "dtype: int64"
      ]
     },
     "execution_count": 8,
     "metadata": {},
     "output_type": "execute_result"
    }
   ],
   "source": [
    "# checking the data types of the variables\n",
    "dp_data.isnull().sum()"
   ]
  },
  {
   "cell_type": "markdown",
   "id": "8f447fa5",
   "metadata": {},
   "source": [
    "#### Handling missing values"
   ]
  },
  {
   "cell_type": "code",
   "execution_count": 9,
   "id": "bc241202",
   "metadata": {},
   "outputs": [
    {
     "name": "stderr",
     "output_type": "stream",
     "text": [
      "C:\\Users\\PETER VITALIS\\AppData\\Local\\Temp\\ipykernel_19184\\1876166623.py:2: FutureWarning: A value is trying to be set on a copy of a DataFrame or Series through chained assignment using an inplace method.\n",
      "The behavior will change in pandas 3.0. This inplace method will never work because the intermediate object on which we are setting values always behaves as a copy.\n",
      "\n",
      "For example, when doing 'df[col].method(value, inplace=True)', try using 'df.method({col: value}, inplace=True)' or df[col] = df[col].method(value) instead, to perform the operation inplace on the original object.\n",
      "\n",
      "\n",
      "  dp_data[\"Height\"].fillna(dp_data[\"Height\"].mean(), inplace=True)\n",
      "C:\\Users\\PETER VITALIS\\AppData\\Local\\Temp\\ipykernel_19184\\1876166623.py:3: FutureWarning: A value is trying to be set on a copy of a DataFrame or Series through chained assignment using an inplace method.\n",
      "The behavior will change in pandas 3.0. This inplace method will never work because the intermediate object on which we are setting values always behaves as a copy.\n",
      "\n",
      "For example, when doing 'df[col].method(value, inplace=True)', try using 'df.method({col: value}, inplace=True)' or df[col] = df[col].method(value) instead, to perform the operation inplace on the original object.\n",
      "\n",
      "\n",
      "  dp_data[\"Weight_\"].fillna(dp_data[\"Weight_\"].mean(), inplace=True)\n"
     ]
    }
   ],
   "source": [
    "# Handling missing values for continouse variables\n",
    "dp_data[\"Height\"].fillna(dp_data[\"Height\"].mean(), inplace=True)\n",
    "dp_data[\"Weight_\"].fillna(dp_data[\"Weight_\"].mean(), inplace=True)"
   ]
  },
  {
   "cell_type": "code",
   "execution_count": 10,
   "id": "8fb43c87",
   "metadata": {},
   "outputs": [
    {
     "name": "stderr",
     "output_type": "stream",
     "text": [
      "C:\\Users\\PETER VITALIS\\AppData\\Local\\Temp\\ipykernel_19184\\324843562.py:2: FutureWarning: A value is trying to be set on a copy of a DataFrame or Series through chained assignment using an inplace method.\n",
      "The behavior will change in pandas 3.0. This inplace method will never work because the intermediate object on which we are setting values always behaves as a copy.\n",
      "\n",
      "For example, when doing 'df[col].method(value, inplace=True)', try using 'df.method({col: value}, inplace=True)' or df[col] = df[col].method(value) instead, to perform the operation inplace on the original object.\n",
      "\n",
      "\n",
      "  dp_data[\"BP\"].fillna(dp_data[\"BP\"].mode()[0], inplace=True)\n",
      "C:\\Users\\PETER VITALIS\\AppData\\Local\\Temp\\ipykernel_19184\\324843562.py:3: FutureWarning: A value is trying to be set on a copy of a DataFrame or Series through chained assignment using an inplace method.\n",
      "The behavior will change in pandas 3.0. This inplace method will never work because the intermediate object on which we are setting values always behaves as a copy.\n",
      "\n",
      "For example, when doing 'df[col].method(value, inplace=True)', try using 'df.method({col: value}, inplace=True)' or df[col] = df[col].method(value) instead, to perform the operation inplace on the original object.\n",
      "\n",
      "\n",
      "  dp_data[\"SignOfSti\"].fillna(dp_data[\"SignOfSti\"].mode()[0], inplace=True)\n",
      "C:\\Users\\PETER VITALIS\\AppData\\Local\\Temp\\ipykernel_19184\\324843562.py:4: FutureWarning: A value is trying to be set on a copy of a DataFrame or Series through chained assignment using an inplace method.\n",
      "The behavior will change in pandas 3.0. This inplace method will never work because the intermediate object on which we are setting values always behaves as a copy.\n",
      "\n",
      "For example, when doing 'df[col].method(value, inplace=True)', try using 'df.method({col: value}, inplace=True)' or df[col] = df[col].method(value) instead, to perform the operation inplace on the original object.\n",
      "\n",
      "\n",
      "  dp_data[\"Lmp\"].fillna(dp_data[\"Lmp\"].mode()[0], inplace=True)\n"
     ]
    }
   ],
   "source": [
    "# handling missing values for categorical variables\n",
    "dp_data[\"BP\"].fillna(dp_data[\"BP\"].mode()[0], inplace=True)\n",
    "dp_data[\"SignOfSti\"].fillna(dp_data[\"SignOfSti\"].mode()[0], inplace=True)\n",
    "dp_data[\"Lmp\"].fillna(dp_data[\"Lmp\"].mode()[0], inplace=True)"
   ]
  },
  {
   "cell_type": "code",
   "execution_count": 11,
   "id": "b38ff100",
   "metadata": {},
   "outputs": [
    {
     "data": {
      "text/plain": [
       "clientsid                    0\n",
       "Gender                       0\n",
       "CountyOfBirth                0\n",
       "Age                          0\n",
       "EntryPoint                   0\n",
       "ReferredOrTransferredFrom    0\n",
       "InitialVisitDate             0\n",
       "BP                           0\n",
       "Weight_                      0\n",
       "Height                       0\n",
       "SignOfSti                    0\n",
       "Lmp                          0\n",
       "Cluster                      0\n",
       "FacilityType                 0\n",
       "Received_DP                  0\n",
       "Refill1month                 0\n",
       "Refill2months                0\n",
       "Refill3months                0\n",
       "Refill6months                0\n",
       "received_counseling          0\n",
       "dtype: int64"
      ]
     },
     "execution_count": 11,
     "metadata": {},
     "output_type": "execute_result"
    }
   ],
   "source": [
    "# checking if all missing values are handled\n",
    "dp_data.isnull().sum()"
   ]
  },
  {
   "cell_type": "markdown",
   "id": "aa327402",
   "metadata": {},
   "source": [
    "### Getting Summary Statistic"
   ]
  },
  {
   "cell_type": "code",
   "execution_count": 12,
   "id": "7afc8b69",
   "metadata": {},
   "outputs": [
    {
     "name": "stdout",
     "output_type": "stream",
     "text": [
      "                Age       Weight_        Height  Received_DP  Refill1month  \\\n",
      "count  22131.000000  22131.000000  2.213100e+04      22131.0  22131.000000   \n",
      "mean      27.284804     76.109112  1.907873e+02          1.0      0.476210   \n",
      "std       10.644699   1198.631608  1.060448e+04          0.0      0.499445   \n",
      "min       15.000000      0.000000  0.000000e+00          1.0      0.000000   \n",
      "25%       22.000000     50.000000  0.000000e+00          1.0      0.000000   \n",
      "50%       25.000000     60.000000  1.560000e+02          1.0      0.000000   \n",
      "75%       31.000000     68.000000  1.640000e+02          1.0      1.000000   \n",
      "max      544.000000  79174.000000  1.560000e+06          1.0      1.000000   \n",
      "\n",
      "       Refill2months  Refill3months  Refill6months  received_counseling  \n",
      "count   22131.000000   22131.000000   22131.000000         22131.000000  \n",
      "mean        0.275857       0.178844       0.065926             0.521034  \n",
      "std         0.446955       0.383230       0.248158             0.499569  \n",
      "min         0.000000       0.000000       0.000000             0.000000  \n",
      "25%         0.000000       0.000000       0.000000             0.000000  \n",
      "50%         0.000000       0.000000       0.000000             1.000000  \n",
      "75%         1.000000       0.000000       0.000000             1.000000  \n",
      "max         1.000000       1.000000       1.000000             1.000000  \n"
     ]
    }
   ],
   "source": [
    "#getting summary statistics of the dataset\n",
    "stat_summary = dp_data.describe()\n",
    "print(stat_summary)"
   ]
  },
  {
   "cell_type": "markdown",
   "id": "c9498d8e",
   "metadata": {},
   "source": [
    "### Visualizing Refill Behavior"
   ]
  },
  {
   "cell_type": "code",
   "execution_count": 14,
   "id": "6ca062d5",
   "metadata": {},
   "outputs": [
    {
     "data": {
      "image/png": "[encoded data removed]",
      "text/plain": [
       "<Figure size 648x432 with 1 Axes>"
      ]
     },
     "metadata": {
      "needs_background": "light"
     },
     "output_type": "display_data"
    }
   ],
   "source": [
    "# refilling columns\n",
    "refill_columns=[\"Received_DP\",\"Refill1month\", \"Refill2months\",\"Refill3months\", \"Refill6months\"]\n",
    "\n",
    "# getting mean of refill rates\n",
    "refill_rates=dp_data[refill_columns].mean()\n",
    "\n",
    "# plotting a barplot for refill rates\n",
    "plt.figure(figsize=(9,6))\n",
    "sns.barplot(x=refill_rates.index, y=refill_rates.values)\n",
    "plt.title(\"DP Continuation Rates Across Months\")\n",
    "plt.xlabel(\"Proportion of Patients\")\n",
    "plt.ylabel(\"Refill Time Point\")\n",
    "plt.xticks(rotation=45)\n",
    "plt.grid(0)\n",
    "plt.show()\n"
   ]
  },
  {
   "cell_type": "markdown",
   "id": "ea8c9f07",
   "metadata": {},
   "source": [
    "#### Refill Rates by Key Variables\n",
    "- Taking a key variable like gender"
   ]
  },
  {
   "cell_type": "code",
   "execution_count": 15,
   "id": "41ac113e",
   "metadata": {},
   "outputs": [
    {
     "data": {
      "image/png": "[encoded data removed]",
      "text/plain": [
       "<Figure size 864x576 with 1 Axes>"
      ]
     },
     "metadata": {
      "needs_background": "light"
     },
     "output_type": "display_data"
    }
   ],
   "source": [
    "refil_by_gender = dp_data.groupby(\"Gender\")[refill_columns].mean().T\n",
    "# plotting a barplot for refill rates\n",
    "refil_by_gender.plot(kind=\"bar\", figsize=(12,8))\n",
    "plt.title(\"DP Continuation Rates by Gender\")\n",
    "plt.xlabel(\"Propotion\")\n",
    "plt.ylabel(\"month\")\n",
    "plt.legend(title=\"gender\")\n",
    "plt.ylim(0,1)\n",
    "plt.grid(0)\n",
    "plt.tight_layout()\n",
    "plt.show()"
   ]
  }
 ],
 "metadata": {
  "kernelspec": {
   "display_name": "Python 3",
   "language": "python",
   "name": "python3"
  },
  "language_info": {
   "codemirror_mode": {
    "name": "ipython",
    "version": 3
   },
   "file_extension": ".py",
   "mimetype": "text/x-python",
   "name": "python",
   "nbconvert_exporter": "python",
   "pygments_lexer": "ipython3",
   "version": "3.13.2"
  }
 },
 "nbformat": 4,
 "nbformat_minor": 5
}
